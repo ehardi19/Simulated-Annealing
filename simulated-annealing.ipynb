{
 "cells": [
  {
   "cell_type": "code",
   "execution_count": 1,
   "metadata": {},
   "outputs": [],
   "source": [
    "import math\n",
    "import random"
   ]
  },
  {
   "cell_type": "code",
   "execution_count": 2,
   "metadata": {},
   "outputs": [],
   "source": [
    "# initiating random floating number\n",
    "def generate():\n",
    "    return random.uniform(-1, 1)"
   ]
  },
  {
   "cell_type": "code",
   "execution_count": 3,
   "metadata": {},
   "outputs": [],
   "source": [
    "# calculate objective function\n",
    "def objective(x1, x2):\n",
    "    return -(math.sin(x1) * math.cos(x2) + (4/5) * math.exp(1 - math.sqrt(math.pow(x1, 2) + math.pow(x2, 2))))"
   ]
  },
  {
   "cell_type": "code",
   "execution_count": 4,
   "metadata": {},
   "outputs": [],
   "source": [
    "# calculating acceptence probability for accepting x1 & x2\n",
    "def calculateProb(deltaE, T):\n",
    "    P = math.exp(-(deltaE) / T)\n",
    "    return P"
   ]
  },
  {
   "cell_type": "code",
   "execution_count": 41,
   "metadata": {},
   "outputs": [],
   "source": [
    "# algorithm for Simulated Annealing\n",
    "def simulatedAnnealing(x1, x2, x1_best, x2_best, E, E_best, T):\n",
    "    while T > 0:\n",
    "        \n",
    "        # generate new solution\n",
    "        x1_new = x1 + generate()\n",
    "        x2_new = x2 + generate()\n",
    "        \n",
    "        # calculate new cost\n",
    "        E_new = objective(x1_new, x2_new)\n",
    "        deltaE = E_new - E\n",
    "        \n",
    "        # if the new solution is better than the current solution\n",
    "        if (deltaE <= 0):\n",
    "            x1 = x1_new\n",
    "            x2 = x2_new\n",
    "            E = E_new\n",
    "            \n",
    "            # check wether the new solution is the current best solution\n",
    "            if (E_new < E_best):\n",
    "                x1_best = x1_new\n",
    "                x2_best = x2_new\n",
    "                E_best = E_new\n",
    "              \n",
    "        # if the new solution is worse than the current solution\n",
    "        else :\n",
    "            P = calculateProb(deltaE, T)\n",
    "            R = random.uniform(0, 1)\n",
    "            \n",
    "            if (R < P) :\n",
    "                x1 = x1_new\n",
    "                x2 = x2_new\n",
    "                E = E_new\n",
    "                \n",
    "        T -= 0.1\n",
    "        \n",
    "    print(f'Energy: {E_best}, x1: {x1}, x2: {x2}')\n",
    "    return"
   ]
  },
  {
   "cell_type": "code",
   "execution_count": 46,
   "metadata": {},
   "outputs": [],
   "source": [
    "# initialize value of current value and best value\n",
    "x1 = x1_best = generate()\n",
    "x2 = x2_best = generate()\n",
    "\n",
    "# initialize current energy and best energy\n",
    "E = E_best = objective(x1, x2)\n",
    "\n",
    "# initialze temperature\n",
    "T = 15000"
   ]
  },
  {
   "cell_type": "code",
   "execution_count": 47,
   "metadata": {},
   "outputs": [
    {
     "name": "stdout",
     "output_type": "stream",
     "text": [
      "Energy: -2.093929527066953, x1: -243.69292498362276, x2: -220.19234343292368\n"
     ]
    }
   ],
   "source": [
    "# run simulated annealing\n",
    "simulatedAnnealing(x1, x2, x1_best, x2_best, E, E_best, T)"
   ]
  },
  {
   "cell_type": "code",
   "execution_count": null,
   "metadata": {},
   "outputs": [],
   "source": []
  }
 ],
 "metadata": {
  "kernelspec": {
   "display_name": "Python 3",
   "language": "python",
   "name": "python3"
  },
  "language_info": {
   "codemirror_mode": {
    "name": "ipython",
    "version": 3
   },
   "file_extension": ".py",
   "mimetype": "text/x-python",
   "name": "python",
   "nbconvert_exporter": "python",
   "pygments_lexer": "ipython3",
   "version": "3.6.4"
  }
 },
 "nbformat": 4,
 "nbformat_minor": 2
}
