{
 "cells": [
  {
   "cell_type": "code",
   "execution_count": 10,
   "metadata": {},
   "outputs": [],
   "source": [
    "import math\n",
    "import random"
   ]
  },
  {
   "cell_type": "code",
   "execution_count": 11,
   "metadata": {},
   "outputs": [],
   "source": [
    "# initiating random floating number\n",
    "def generate():\n",
    "    return random.uniform(-1, 1)"
   ]
  },
  {
   "cell_type": "code",
   "execution_count": 12,
   "metadata": {},
   "outputs": [],
   "source": [
    "# calculate objective function\n",
    "def objective(x1, x2):\n",
    "    return -(math.sin(x1) * math.cos(x2) + (4/5) * math.exp(1 - math.sqrt(math.pow(x1, 2) + math.pow(x2, 2))))"
   ]
  },
  {
   "cell_type": "code",
   "execution_count": 13,
   "metadata": {},
   "outputs": [],
   "source": [
    "# calculating acceptence probability for accepting x1 & x2\n",
    "def calculateProb(deltaE, T):\n",
    "    P = math.exp(-(deltaE) / T)\n",
    "    return P"
   ]
  },
  {
   "cell_type": "code",
   "execution_count": 14,
   "metadata": {},
   "outputs": [],
   "source": [
    "# algorithm for Simulated Annealing\n",
    "def simulatedAnnealing(x1, x2, x1_best, x2_best, E, E_best, T):\n",
    "    while T > 0:\n",
    "        \n",
    "        # generate new solution\n",
    "        x1_new = x1 * random.uniform(-2, 2)\n",
    "        x2_new = x2 * random.unfirom(-2, 2)\n",
    "        \n",
    "        # calculate new cost\n",
    "        E_new = objective(x1_new, x2_new)\n",
    "        deltaE = E_new - E\n",
    "        \n",
    "        # if the new solution is better than the current solution\n",
    "        if (deltaE <= 0):\n",
    "            x1 = x1_new\n",
    "            x2 = x2_new\n",
    "            E = E_new\n",
    "            \n",
    "            # check wether the new solution is the current best solution\n",
    "            if (E_new < E_best):\n",
    "                x1_best = x1_new\n",
    "                x2_best = x2_new\n",
    "                E_best = E_new\n",
    "              \n",
    "        # if the new solution is worse than the current solution\n",
    "        else :\n",
    "            P = calculateProb(deltaE, T)\n",
    "            R = random.uniform(0, 1)\n",
    "            \n",
    "            if (R < P) :\n",
    "                x1 = x1_new\n",
    "                x2 = x2_new\n",
    "                E = E_new\n",
    "                \n",
    "        T -= 0.1\n",
    "        \n",
    "    print(f'Energy: {E_best}, x1: {x1}, x2: {x2}')\n",
    "    return"
   ]
  },
  {
   "cell_type": "code",
   "execution_count": 15,
   "metadata": {},
   "outputs": [],
   "source": [
    "# initialize value of current value and best value\n",
    "x1 = x1_best = generate()\n",
    "x2 = x2_best = generate()\n",
    "\n",
    "# initialize current energy and best energy\n",
    "E = E_best = objective(x1, x2)\n",
    "\n",
    "# initialze temperature\n",
    "T = 15000"
   ]
  },
  {
   "cell_type": "code",
   "execution_count": 16,
   "metadata": {},
   "outputs": [
    {
     "ename": "AttributeError",
     "evalue": "module 'random' has no attribute 'unfirom'",
     "output_type": "error",
     "traceback": [
      "\u001b[0;31m---------------------------------------------------------------------------\u001b[0m",
      "\u001b[0;31mAttributeError\u001b[0m                            Traceback (most recent call last)",
      "\u001b[0;32m<ipython-input-16-d077f052e480>\u001b[0m in \u001b[0;36m<module>\u001b[0;34m\u001b[0m\n\u001b[1;32m      1\u001b[0m \u001b[0;31m# run simulated annealing\u001b[0m\u001b[0;34m\u001b[0m\u001b[0;34m\u001b[0m\u001b[0;34m\u001b[0m\u001b[0m\n\u001b[0;32m----> 2\u001b[0;31m \u001b[0msimulatedAnnealing\u001b[0m\u001b[0;34m(\u001b[0m\u001b[0mx1\u001b[0m\u001b[0;34m,\u001b[0m \u001b[0mx2\u001b[0m\u001b[0;34m,\u001b[0m \u001b[0mx1_best\u001b[0m\u001b[0;34m,\u001b[0m \u001b[0mx2_best\u001b[0m\u001b[0;34m,\u001b[0m \u001b[0mE\u001b[0m\u001b[0;34m,\u001b[0m \u001b[0mE_best\u001b[0m\u001b[0;34m,\u001b[0m \u001b[0mT\u001b[0m\u001b[0;34m)\u001b[0m\u001b[0;34m\u001b[0m\u001b[0;34m\u001b[0m\u001b[0m\n\u001b[0m",
      "\u001b[0;32m<ipython-input-14-250b5c16526b>\u001b[0m in \u001b[0;36msimulatedAnnealing\u001b[0;34m(x1, x2, x1_best, x2_best, E, E_best, T)\u001b[0m\n\u001b[1;32m      5\u001b[0m         \u001b[0;31m# generate new solution\u001b[0m\u001b[0;34m\u001b[0m\u001b[0;34m\u001b[0m\u001b[0;34m\u001b[0m\u001b[0m\n\u001b[1;32m      6\u001b[0m         \u001b[0mx1_new\u001b[0m \u001b[0;34m=\u001b[0m \u001b[0mx1\u001b[0m \u001b[0;34m*\u001b[0m \u001b[0mrandom\u001b[0m\u001b[0;34m.\u001b[0m\u001b[0muniform\u001b[0m\u001b[0;34m(\u001b[0m\u001b[0;34m-\u001b[0m\u001b[0;36m2\u001b[0m\u001b[0;34m,\u001b[0m \u001b[0;36m2\u001b[0m\u001b[0;34m)\u001b[0m\u001b[0;34m\u001b[0m\u001b[0;34m\u001b[0m\u001b[0m\n\u001b[0;32m----> 7\u001b[0;31m         \u001b[0mx2_new\u001b[0m \u001b[0;34m=\u001b[0m \u001b[0mx2\u001b[0m \u001b[0;34m*\u001b[0m \u001b[0mrandom\u001b[0m\u001b[0;34m.\u001b[0m\u001b[0munfirom\u001b[0m\u001b[0;34m(\u001b[0m\u001b[0;34m-\u001b[0m\u001b[0;36m2\u001b[0m\u001b[0;34m,\u001b[0m \u001b[0;36m2\u001b[0m\u001b[0;34m)\u001b[0m\u001b[0;34m\u001b[0m\u001b[0;34m\u001b[0m\u001b[0m\n\u001b[0m\u001b[1;32m      8\u001b[0m \u001b[0;34m\u001b[0m\u001b[0m\n\u001b[1;32m      9\u001b[0m         \u001b[0;31m# calculate new cost\u001b[0m\u001b[0;34m\u001b[0m\u001b[0;34m\u001b[0m\u001b[0;34m\u001b[0m\u001b[0m\n",
      "\u001b[0;31mAttributeError\u001b[0m: module 'random' has no attribute 'unfirom'"
     ]
    }
   ],
   "source": [
    "# run simulated annealing\n",
    "simulatedAnnealing(x1, x2, x1_best, x2_best, E, E_best, T)"
   ]
  },
  {
   "cell_type": "code",
   "execution_count": null,
   "metadata": {},
   "outputs": [],
   "source": []
  }
 ],
 "metadata": {
  "kernelspec": {
   "display_name": "Python 3",
   "language": "python",
   "name": "python3"
  },
  "language_info": {
   "codemirror_mode": {
    "name": "ipython",
    "version": 3
   },
   "file_extension": ".py",
   "mimetype": "text/x-python",
   "name": "python",
   "nbconvert_exporter": "python",
   "pygments_lexer": "ipython3",
   "version": "3.7.1"
  }
 },
 "nbformat": 4,
 "nbformat_minor": 2
}
